{
  "nbformat": 4,
  "nbformat_minor": 0,
  "metadata": {
    "colab": {
      "provenance": []
    },
    "kernelspec": {
      "name": "python3",
      "display_name": "Python 3"
    },
    "language_info": {
      "name": "python"
    }
  },
  "cells": [
    {
      "cell_type": "code",
      "execution_count": 15,
      "metadata": {
        "id": "qV-5VZvXNg01"
      },
      "outputs": [],
      "source": [
        "import pandas as pns\n",
        "import numpy as npy\n",
        "from pandas import DataFrame\n",
        "from sklearn.preprocessing import MinMaxScaler\n",
        "from sklearn.preprocessing import StandardScaler\n",
        "from sklearn.preprocessing import LabelEncoder\n",
        "from sklearn import preprocessing"
      ]
    },
    {
      "cell_type": "code",
      "source": [
        "# Data materi sebelumnya\n",
        "df = pns.read_csv(\"/content/drive/MyDrive/apartemen2(numerik).csv\")\n",
        "print(df)"
      ],
      "metadata": {
        "colab": {
          "base_uri": "https://localhost:8080/"
        },
        "id": "p37EMS_QUZuH",
        "outputId": "fa700663-140b-4930-b7e1-7daf7a1eb22a"
      },
      "execution_count": 16,
      "outputs": [
        {
          "output_type": "stream",
          "name": "stdout",
          "text": [
            "   Unnamed: 0    KodeApt  Wilayah  St_Milik  Jum_Kamar\n",
            "0           0      104.0        0         1        3.0\n",
            "1           1      197.0        2         0        3.0\n",
            "2           2  1000000.0        2         0        3.0\n",
            "3           3      201.0        3         0        1.0\n",
            "4           4      203.0        3         1        3.0\n",
            "5           5      207.0        3         1        3.0\n",
            "6           6     9999.0        1         1        2.0\n",
            "7           7      213.0        0         1        3.0\n",
            "8           8      215.0        0         1        3.0\n"
          ]
        }
      ]
    },
    {
      "cell_type": "code",
      "source": [
        "# statistik deskriptif\n",
        "print(df.describe())"
      ],
      "metadata": {
        "colab": {
          "base_uri": "https://localhost:8080/"
        },
        "id": "6jjgfy1jVUzJ",
        "outputId": "431d0ebd-edb2-47a7-d4a8-003f04c9e6f0"
      },
      "execution_count": 17,
      "outputs": [
        {
          "output_type": "stream",
          "name": "stdout",
          "text": [
            "       Unnamed: 0         KodeApt   Wilayah  St_Milik  Jum_Kamar\n",
            "count    9.000000        9.000000  9.000000  9.000000   9.000000\n",
            "mean     4.000000   112371.000000  1.555556  0.666667   2.666667\n",
            "std      2.738613   332876.679663  1.333333  0.500000   0.707107\n",
            "min      0.000000      104.000000  0.000000  0.000000   1.000000\n",
            "25%      2.000000      201.000000  0.000000  0.000000   3.000000\n",
            "50%      4.000000      207.000000  2.000000  1.000000   3.000000\n",
            "75%      6.000000      215.000000  3.000000  1.000000   3.000000\n",
            "max      8.000000  1000000.000000  3.000000  1.000000   3.000000\n"
          ]
        }
      ]
    },
    {
      "cell_type": "code",
      "source": [
        "df.loc[2, 'Jum_Kamar'] = 100\n",
        "df.loc[8, 'Jum_Kamar'] = 87\n",
        "df.loc[7, 'Jum_Kamar'] = 54\n",
        "df.loc[4, 'Jum_Kamar'] = 99\n",
        "df.loc[5, 'Jum_Kamar'] = 16\n",
        "print(df)\n",
        "print(df.shape)\n",
        "print(df.Jum_Kamar)"
      ],
      "metadata": {
        "colab": {
          "base_uri": "https://localhost:8080/"
        },
        "id": "ksNoOFUU7oaH",
        "outputId": "c4349d15-3a06-44bf-e238-8cf66f683048"
      },
      "execution_count": 18,
      "outputs": [
        {
          "output_type": "stream",
          "name": "stdout",
          "text": [
            "   Unnamed: 0    KodeApt  Wilayah  St_Milik  Jum_Kamar\n",
            "0           0      104.0        0         1        3.0\n",
            "1           1      197.0        2         0        3.0\n",
            "2           2  1000000.0        2         0      100.0\n",
            "3           3      201.0        3         0        1.0\n",
            "4           4      203.0        3         1       99.0\n",
            "5           5      207.0        3         1       16.0\n",
            "6           6     9999.0        1         1        2.0\n",
            "7           7      213.0        0         1       54.0\n",
            "8           8      215.0        0         1       87.0\n",
            "(9, 5)\n",
            "0      3.0\n",
            "1      3.0\n",
            "2    100.0\n",
            "3      1.0\n",
            "4     99.0\n",
            "5     16.0\n",
            "6      2.0\n",
            "7     54.0\n",
            "8     87.0\n",
            "Name: Jum_Kamar, dtype: float64\n"
          ]
        }
      ]
    },
    {
      "cell_type": "code",
      "source": [
        "fitur_minmax = df.copy()\n",
        "Kol_minmax = ['Jum_Kamar']\n",
        "fitur = fitur_minmax[Kol_minmax]\n",
        "min_max = MinMaxScaler()\n",
        "standar = StandardScaler()\n",
        "kamar_standar = standar.fit_transform(fitur.values)\n",
        "kamar_minmax = min_max.fit_transform(fitur.values)\n",
        "print(kamar_minmax)\n",
        "print(kamar_standar)"
      ],
      "metadata": {
        "colab": {
          "base_uri": "https://localhost:8080/"
        },
        "id": "X0O2Imal8dy8",
        "outputId": "b4b4831f-9810-44e1-c496-e61645d6a8d0"
      },
      "execution_count": 19,
      "outputs": [
        {
          "output_type": "stream",
          "name": "stdout",
          "text": [
            "[[0.02020202]\n",
            " [0.02020202]\n",
            " [1.        ]\n",
            " [0.        ]\n",
            " [0.98989899]\n",
            " [0.15151515]\n",
            " [0.01010101]\n",
            " [0.53535354]\n",
            " [0.86868687]]\n",
            "[[-0.89740136]\n",
            " [-0.89740136]\n",
            " [ 1.42044298]\n",
            " [-0.94519196]\n",
            " [ 1.39654768]\n",
            " [-0.58676243]\n",
            " [-0.92129666]\n",
            " [ 0.32125907]\n",
            " [ 1.10980405]]\n"
          ]
        }
      ]
    },
    {
      "cell_type": "code",
      "source": [
        "# mean dan standarisasi hasil normalisasi\n",
        "print(npy.mean(kamar_minmax))\n",
        "print(npy.std(kamar_minmax))"
      ],
      "metadata": {
        "colab": {
          "base_uri": "https://localhost:8080/"
        },
        "id": "FRehVFzvSQJ2",
        "outputId": "c20b1612-54d3-4ddf-d5e8-759765965726"
      },
      "execution_count": 20,
      "outputs": [
        {
          "output_type": "stream",
          "name": "stdout",
          "text": [
            "0.39955106621773295\n",
            "0.42271949170292694\n"
          ]
        }
      ]
    },
    {
      "cell_type": "markdown",
      "source": [
        "fitur minmax merupakan hasil hitungan rumus dari ((bilangan tertera) - (bilangan minimal dari seluruh grup)) dibagi ((bilangan maksimal dari seluruh grup - (bilangan minimal seluruh grup)). Singkatnya normalisasi"
      ],
      "metadata": {
        "id": "TqBVaXVaB05Z"
      }
    },
    {
      "cell_type": "code",
      "source": [
        "# coba coba\n",
        "kamar_minmax2 = MinMaxScaler().fit_transform(df.copy([Kol_minmax]).values)\n",
        "print(kamar_minmax2)"
      ],
      "metadata": {
        "colab": {
          "base_uri": "https://localhost:8080/"
        },
        "id": "x8vyovsl-4QK",
        "outputId": "c87e7b65-3ea6-48d8-c3b5-8f71ab1b74db"
      },
      "execution_count": 21,
      "outputs": [
        {
          "output_type": "stream",
          "name": "stdout",
          "text": [
            "[[0.00000000e+00 0.00000000e+00 0.00000000e+00 1.00000000e+00\n",
            "  2.02020202e-02]\n",
            " [1.25000000e-01 9.30096730e-05 6.66666667e-01 0.00000000e+00\n",
            "  2.02020202e-02]\n",
            " [2.50000000e-01 1.00000000e+00 6.66666667e-01 0.00000000e+00\n",
            "  1.00000000e+00]\n",
            " [3.75000000e-01 9.70100890e-05 1.00000000e+00 0.00000000e+00\n",
            "  0.00000000e+00]\n",
            " [5.00000000e-01 9.90102971e-05 1.00000000e+00 1.00000000e+00\n",
            "  9.89898990e-01]\n",
            " [6.25000000e-01 1.03010713e-04 1.00000000e+00 1.00000000e+00\n",
            "  1.51515152e-01]\n",
            " [7.50000000e-01 9.89602919e-03 3.33333333e-01 1.00000000e+00\n",
            "  1.01010101e-02]\n",
            " [8.75000000e-01 1.09011337e-04 0.00000000e+00 1.00000000e+00\n",
            "  5.35353535e-01]\n",
            " [1.00000000e+00 1.11011545e-04 0.00000000e+00 1.00000000e+00\n",
            "  8.68686869e-01]]\n"
          ]
        }
      ]
    },
    {
      "cell_type": "code",
      "source": [
        "fitur_minmax[Kol_minmax] = kamar_minmax\n",
        "print(fitur_minmax)"
      ],
      "metadata": {
        "colab": {
          "base_uri": "https://localhost:8080/"
        },
        "id": "w_RzOOlm_wgg",
        "outputId": "ff7dad32-a6bf-48f9-f434-79e5daecd66c"
      },
      "execution_count": 22,
      "outputs": [
        {
          "output_type": "stream",
          "name": "stdout",
          "text": [
            "   Unnamed: 0    KodeApt  Wilayah  St_Milik  Jum_Kamar\n",
            "0           0      104.0        0         1   0.020202\n",
            "1           1      197.0        2         0   0.020202\n",
            "2           2  1000000.0        2         0   1.000000\n",
            "3           3      201.0        3         0   0.000000\n",
            "4           4      203.0        3         1   0.989899\n",
            "5           5      207.0        3         1   0.151515\n",
            "6           6     9999.0        1         1   0.010101\n",
            "7           7      213.0        0         1   0.535354\n",
            "8           8      215.0        0         1   0.868687\n"
          ]
        }
      ]
    },
    {
      "cell_type": "code",
      "source": [
        "df.to_csv(\"/content/drive/MyDrive/apartemen(minmax).csv\", header=True, index=False )"
      ],
      "metadata": {
        "id": "LbczCMTvABPY"
      },
      "execution_count": 23,
      "outputs": []
    }
  ]
}