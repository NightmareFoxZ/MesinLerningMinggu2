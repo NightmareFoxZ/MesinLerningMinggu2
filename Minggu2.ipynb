{
  "nbformat": 4,
  "nbformat_minor": 0,
  "metadata": {
    "colab": {
      "provenance": []
    },
    "kernelspec": {
      "name": "python3",
      "display_name": "Python 3"
    },
    "language_info": {
      "name": "python"
    },
    "accelerator": "GPU",
    "gpuClass": "standard"
  },
  "cells": [
    {
      "cell_type": "code",
      "execution_count": 50,
      "metadata": {
        "id": "w081Z0J2GXBP"
      },
      "outputs": [],
      "source": [
        "import pandas as pnd\n",
        "import numpy as nmp"
      ]
    },
    {
      "cell_type": "code",
      "source": [
        "df = pnd.read_csv(\"/content/drive/MyDrive/apartemen2.csv\")\n",
        "print (df)"
      ],
      "metadata": {
        "colab": {
          "base_uri": "https://localhost:8080/"
        },
        "id": "vNx1u4i0H5Wy",
        "outputId": "7663d00f-113d-46fc-a197-ae7d2e7a4f7f"
      },
      "execution_count": 51,
      "outputs": [
        {
          "output_type": "stream",
          "name": "stdout",
          "text": [
            "   KodeApt   Wilayah St_Milik Jum_Kamar\n",
            "0    104.0    Bantul        Y         3\n",
            "1    197.0    Sleman        N         3\n",
            "2      NaN    Sleman        N       NaN\n",
            "3    201.0     Yogya       12         1\n",
            "4    203.0     Yogya        Y         3\n",
            "5    207.0     Yogya        Y       NaN\n",
            "6      NaN  KL-Progo      NaN         2\n",
            "7    213.0    Bantul        Y        --\n",
            "8    215.0    Bantul        Y        na\n"
          ]
        }
      ]
    },
    {
      "cell_type": "code",
      "source": [
        "# seandainya di clean\n",
        "dataset_clean = df.dropna()\n",
        "print(\"Setelah di clean: \", dataset_clean.shape)\n",
        "print(dataset_clean)"
      ],
      "metadata": {
        "colab": {
          "base_uri": "https://localhost:8080/"
        },
        "id": "aVF_8FYNMwIK",
        "outputId": "a329f6bf-f15e-4612-f8b6-2bccd783a81c"
      },
      "execution_count": 52,
      "outputs": [
        {
          "output_type": "stream",
          "name": "stdout",
          "text": [
            "Setelah di clean:  (6, 4)\n",
            "   KodeApt Wilayah St_Milik Jum_Kamar\n",
            "0    104.0  Bantul        Y         3\n",
            "1    197.0  Sleman        N         3\n",
            "3    201.0   Yogya       12         1\n",
            "4    203.0   Yogya        Y         3\n",
            "7    213.0  Bantul        Y        --\n",
            "8    215.0  Bantul        Y        na\n"
          ]
        }
      ]
    },
    {
      "cell_type": "markdown",
      "source": [
        "Cek data null dan brp jmlhnya"
      ],
      "metadata": {
        "id": "JL3xDo98KLpp"
      }
    },
    {
      "cell_type": "code",
      "source": [
        "# cek missing values?\n",
        "df.isnull().values.any()"
      ],
      "metadata": {
        "colab": {
          "base_uri": "https://localhost:8080/"
        },
        "id": "SrYEHl4gJP0U",
        "outputId": "3efdff5d-f2b5-4db1-e319-b01bb492325b"
      },
      "execution_count": 53,
      "outputs": [
        {
          "output_type": "execute_result",
          "data": {
            "text/plain": [
              "True"
            ]
          },
          "metadata": {},
          "execution_count": 53
        }
      ]
    },
    {
      "cell_type": "code",
      "source": [
        "# Banyaknya Missing values\n",
        "df.isnull().sum().sum()"
      ],
      "metadata": {
        "colab": {
          "base_uri": "https://localhost:8080/"
        },
        "id": "LJpjiaXsJYfD",
        "outputId": "01b1d698-97e4-4203-8614-c95b5a279cf5"
      },
      "execution_count": 54,
      "outputs": [
        {
          "output_type": "execute_result",
          "data": {
            "text/plain": [
              "5"
            ]
          },
          "metadata": {},
          "execution_count": 54
        }
      ]
    },
    {
      "cell_type": "code",
      "source": [
        "# Melihat kolom Kode_Apt\n",
        "df['KodeApt']"
      ],
      "metadata": {
        "colab": {
          "base_uri": "https://localhost:8080/"
        },
        "id": "84UYJ288KV8N",
        "outputId": "54243f56-9c31-4363-a923-7eb196e62fe4"
      },
      "execution_count": 55,
      "outputs": [
        {
          "output_type": "execute_result",
          "data": {
            "text/plain": [
              "0    104.0\n",
              "1    197.0\n",
              "2      NaN\n",
              "3    201.0\n",
              "4    203.0\n",
              "5    207.0\n",
              "6      NaN\n",
              "7    213.0\n",
              "8    215.0\n",
              "Name: KodeApt, dtype: float64"
            ]
          },
          "metadata": {},
          "execution_count": 55
        }
      ]
    },
    {
      "cell_type": "code",
      "source": [
        "df['KodeApt'].isnull()"
      ],
      "metadata": {
        "colab": {
          "base_uri": "https://localhost:8080/"
        },
        "id": "5RYDKiD9K3QL",
        "outputId": "93be00c4-f343-4e45-aad2-3e67ecb3a2bf"
      },
      "execution_count": 56,
      "outputs": [
        {
          "output_type": "execute_result",
          "data": {
            "text/plain": [
              "0    False\n",
              "1    False\n",
              "2     True\n",
              "3    False\n",
              "4    False\n",
              "5    False\n",
              "6     True\n",
              "7    False\n",
              "8    False\n",
              "Name: KodeApt, dtype: bool"
            ]
          },
          "metadata": {},
          "execution_count": 56
        }
      ]
    },
    {
      "cell_type": "code",
      "source": [
        "df['St_Milik']"
      ],
      "metadata": {
        "colab": {
          "base_uri": "https://localhost:8080/"
        },
        "id": "m_Bht_daLiAr",
        "outputId": "b8ec5f5a-06e6-4b11-a98d-6d890aab7b6f"
      },
      "execution_count": 57,
      "outputs": [
        {
          "output_type": "execute_result",
          "data": {
            "text/plain": [
              "0      Y\n",
              "1      N\n",
              "2      N\n",
              "3     12\n",
              "4      Y\n",
              "5      Y\n",
              "6    NaN\n",
              "7      Y\n",
              "8      Y\n",
              "Name: St_Milik, dtype: object"
            ]
          },
          "metadata": {},
          "execution_count": 57
        }
      ]
    },
    {
      "cell_type": "code",
      "source": [
        "df['St_Milik'].isnull()"
      ],
      "metadata": {
        "colab": {
          "base_uri": "https://localhost:8080/"
        },
        "id": "s4hE6QcTKiur",
        "outputId": "afe1adcc-a8d4-41e7-c253-960c450cbc88"
      },
      "execution_count": 58,
      "outputs": [
        {
          "output_type": "execute_result",
          "data": {
            "text/plain": [
              "0    False\n",
              "1    False\n",
              "2    False\n",
              "3    False\n",
              "4    False\n",
              "5    False\n",
              "6     True\n",
              "7    False\n",
              "8    False\n",
              "Name: St_Milik, dtype: bool"
            ]
          },
          "metadata": {},
          "execution_count": 58
        }
      ]
    },
    {
      "cell_type": "code",
      "source": [
        "df['Jum_Kamar']"
      ],
      "metadata": {
        "id": "uvFOKeGlLpTy",
        "outputId": "e3248b98-377e-4b2c-e220-d8e1234cec4c",
        "colab": {
          "base_uri": "https://localhost:8080/"
        }
      },
      "execution_count": 59,
      "outputs": [
        {
          "output_type": "execute_result",
          "data": {
            "text/plain": [
              "0      3\n",
              "1      3\n",
              "2    NaN\n",
              "3      1\n",
              "4      3\n",
              "5    NaN\n",
              "6      2\n",
              "7     --\n",
              "8     na\n",
              "Name: Jum_Kamar, dtype: object"
            ]
          },
          "metadata": {},
          "execution_count": 59
        }
      ]
    },
    {
      "cell_type": "code",
      "source": [
        "df['Jum_Kamar'].isnull()"
      ],
      "metadata": {
        "colab": {
          "base_uri": "https://localhost:8080/"
        },
        "id": "zyvD47HaK0ZU",
        "outputId": "e6861f35-464c-43f3-ca99-79d724f7fd32"
      },
      "execution_count": 60,
      "outputs": [
        {
          "output_type": "execute_result",
          "data": {
            "text/plain": [
              "0    False\n",
              "1    False\n",
              "2     True\n",
              "3    False\n",
              "4    False\n",
              "5     True\n",
              "6    False\n",
              "7    False\n",
              "8    False\n",
              "Name: Jum_Kamar, dtype: bool"
            ]
          },
          "metadata": {},
          "execution_count": 60
        }
      ]
    },
    {
      "cell_type": "code",
      "source": [
        "# Membuat daftar missing values dan cek kembali data pada jum_kamar\n",
        "missing_val = [\"n/a\", \"na\", \"--\"]\n",
        "df = pnd.read_csv(\"/content/drive/MyDrive/apartemen2.csv\", na_values = missing_val)\n",
        "df['Jum_Kamar'].isnull()"
      ],
      "metadata": {
        "colab": {
          "base_uri": "https://localhost:8080/"
        },
        "id": "tJU6-y3SPePo",
        "outputId": "229e6817-2b8e-493c-ea8f-0fb20963ce77"
      },
      "execution_count": 61,
      "outputs": [
        {
          "output_type": "execute_result",
          "data": {
            "text/plain": [
              "0    False\n",
              "1    False\n",
              "2     True\n",
              "3    False\n",
              "4    False\n",
              "5     True\n",
              "6    False\n",
              "7     True\n",
              "8     True\n",
              "Name: Jum_Kamar, dtype: bool"
            ]
          },
          "metadata": {},
          "execution_count": 61
        }
      ]
    },
    {
      "cell_type": "code",
      "source": [
        "df['Jum_Kamar']"
      ],
      "metadata": {
        "colab": {
          "base_uri": "https://localhost:8080/"
        },
        "id": "YyybBb_nRCUU",
        "outputId": "e3f39bab-5e3f-4499-edc3-66f61eebac01"
      },
      "execution_count": 62,
      "outputs": [
        {
          "output_type": "execute_result",
          "data": {
            "text/plain": [
              "0    3.0\n",
              "1    3.0\n",
              "2    NaN\n",
              "3    1.0\n",
              "4    3.0\n",
              "5    NaN\n",
              "6    2.0\n",
              "7    NaN\n",
              "8    NaN\n",
              "Name: Jum_Kamar, dtype: float64"
            ]
          },
          "metadata": {},
          "execution_count": 62
        }
      ]
    },
    {
      "cell_type": "code",
      "source": [
        "# Hitung kembali missing values pada setiap kolom\n",
        "df.isnull().sum()"
      ],
      "metadata": {
        "colab": {
          "base_uri": "https://localhost:8080/"
        },
        "id": "gYn6W6S0SAhR",
        "outputId": "309b412f-2800-408f-f8e6-97cef7b98745"
      },
      "execution_count": 63,
      "outputs": [
        {
          "output_type": "execute_result",
          "data": {
            "text/plain": [
              "KodeApt      2\n",
              "Wilayah      0\n",
              "St_Milik     1\n",
              "Jum_Kamar    4\n",
              "dtype: int64"
            ]
          },
          "metadata": {},
          "execution_count": 63
        }
      ]
    },
    {
      "cell_type": "code",
      "source": [
        "# Banyaknya missing values\n",
        "df.isnull().sum().sum()"
      ],
      "metadata": {
        "colab": {
          "base_uri": "https://localhost:8080/"
        },
        "id": "vcXO75HsSl84",
        "outputId": "94951dfa-3d91-4a3f-91c6-d2abcf4bbe18"
      },
      "execution_count": 64,
      "outputs": [
        {
          "output_type": "execute_result",
          "data": {
            "text/plain": [
              "7"
            ]
          },
          "metadata": {},
          "execution_count": 64
        }
      ]
    },
    {
      "cell_type": "code",
      "source": [
        "# Mengisi missing value dengan angka pada lokasi yang spesifik\n",
        "# Mengganti missing value dengan angka\n",
        "df['KodeApt'].fillna(9999, inplace=True)\n",
        "print(df.KodeApt)\n",
        "# Mengganti pada lokasi spesifik\n",
        "df.loc[2, 'KodeApt'] = 1000000\n",
        "print(df.KodeApt)"
      ],
      "metadata": {
        "colab": {
          "base_uri": "https://localhost:8080/"
        },
        "id": "t_Cgyaz-S7ni",
        "outputId": "d891f069-feea-4cf9-b264-9013e105170e"
      },
      "execution_count": 65,
      "outputs": [
        {
          "output_type": "stream",
          "name": "stdout",
          "text": [
            "0     104.0\n",
            "1     197.0\n",
            "2    9999.0\n",
            "3     201.0\n",
            "4     203.0\n",
            "5     207.0\n",
            "6    9999.0\n",
            "7     213.0\n",
            "8     215.0\n",
            "Name: KodeApt, dtype: float64\n",
            "0        104.0\n",
            "1        197.0\n",
            "2    1000000.0\n",
            "3        201.0\n",
            "4        203.0\n",
            "5        207.0\n",
            "6       9999.0\n",
            "7        213.0\n",
            "8        215.0\n",
            "Name: KodeApt, dtype: float64\n"
          ]
        }
      ]
    },
    {
      "cell_type": "code",
      "source": [
        "# Mengisi missing value dengan nilai median\n",
        "medi = df['Jum_Kamar'].median()\n",
        "df['Jum_Kamar'].fillna(medi, inplace=True)\n",
        "print(df.Jum_Kamar)"
      ],
      "metadata": {
        "colab": {
          "base_uri": "https://localhost:8080/"
        },
        "id": "oNzSZqYlUA_T",
        "outputId": "0e27eaad-c70a-487e-ef1c-aa4aeb861e1e"
      },
      "execution_count": 66,
      "outputs": [
        {
          "output_type": "stream",
          "name": "stdout",
          "text": [
            "0    3.0\n",
            "1    3.0\n",
            "2    3.0\n",
            "3    1.0\n",
            "4    3.0\n",
            "5    3.0\n",
            "6    2.0\n",
            "7    3.0\n",
            "8    3.0\n",
            "Name: Jum_Kamar, dtype: float64\n"
          ]
        }
      ]
    },
    {
      "cell_type": "code",
      "source": [
        "# Melihat Keseluruhan Data\n",
        "print(df)"
      ],
      "metadata": {
        "colab": {
          "base_uri": "https://localhost:8080/"
        },
        "id": "jJ9urtioVd9i",
        "outputId": "45716996-2de8-4c04-97b5-abffb206c4e5"
      },
      "execution_count": 67,
      "outputs": [
        {
          "output_type": "stream",
          "name": "stdout",
          "text": [
            "     KodeApt   Wilayah St_Milik  Jum_Kamar\n",
            "0      104.0    Bantul        Y        3.0\n",
            "1      197.0    Sleman        N        3.0\n",
            "2  1000000.0    Sleman        N        3.0\n",
            "3      201.0     Yogya       12        1.0\n",
            "4      203.0     Yogya        Y        3.0\n",
            "5      207.0     Yogya        Y        3.0\n",
            "6     9999.0  KL-Progo      NaN        2.0\n",
            "7      213.0    Bantul        Y        3.0\n",
            "8      215.0    Bantul        Y        3.0\n"
          ]
        }
      ]
    },
    {
      "cell_type": "code",
      "source": [
        "# Mengganti Data Numerik pada lokasi yang spesifik\n",
        "df.loc[3, 'St_Milik'] = 'N'\n",
        "df.loc[6, 'St_Milik'] = 'Y'\n",
        "print(df)\n",
        "# Ukuran\n",
        "df.shape"
      ],
      "metadata": {
        "colab": {
          "base_uri": "https://localhost:8080/"
        },
        "id": "H8HX_B6xVsbR",
        "outputId": "bf245e9a-241b-478a-92e6-6018c4039907"
      },
      "execution_count": 68,
      "outputs": [
        {
          "output_type": "stream",
          "name": "stdout",
          "text": [
            "     KodeApt   Wilayah St_Milik  Jum_Kamar\n",
            "0      104.0    Bantul        Y        3.0\n",
            "1      197.0    Sleman        N        3.0\n",
            "2  1000000.0    Sleman        N        3.0\n",
            "3      201.0     Yogya        N        1.0\n",
            "4      203.0     Yogya        Y        3.0\n",
            "5      207.0     Yogya        Y        3.0\n",
            "6     9999.0  KL-Progo        Y        2.0\n",
            "7      213.0    Bantul        Y        3.0\n",
            "8      215.0    Bantul        Y        3.0\n"
          ]
        },
        {
          "output_type": "execute_result",
          "data": {
            "text/plain": [
              "(9, 4)"
            ]
          },
          "metadata": {},
          "execution_count": 68
        }
      ]
    },
    {
      "cell_type": "code",
      "source": [
        "# Simpan Model\n",
        "df.to_csv(\"/content/drive/MyDrive/apartemen2(baru).csv\")"
      ],
      "metadata": {
        "id": "Wj-0GWqIWiZI"
      },
      "execution_count": 69,
      "outputs": []
    },
    {
      "cell_type": "code",
      "source": [
        "# Mengubah data non numerik menjadi numerik \n",
        "# Library \n",
        "from sklearn.preprocessing import LabelEncoder\n",
        "from pandas import DataFrame\n",
        "# mengosongkan df dengan cara import ulang pandas\n",
        "import pandas as pnd\n",
        "import numpy as nmp\n",
        "# Baca File Dataset\n",
        "df = pnd.read_csv(\"/content/drive/MyDrive/apartemen2(baru).csv\")\n",
        "# Melihat semua isi Data\n",
        "print(df)\n",
        "LeCod = LabelEncoder()\n",
        "for col in df.columns.values:\n",
        "  # Encoding pada variable kategorial\n",
        "  if df[col].dtypes == 'object':\n",
        "      data=df[col].append(df[col])\n",
        "      LeCod.fit(data.values)\n",
        "      df[col]=LeCod.transform(df[col])\n",
        "df.head(10)"
      ],
      "metadata": {
        "colab": {
          "base_uri": "https://localhost:8080/",
          "height": 505
        },
        "id": "M4ZFL3EhXYuI",
        "outputId": "77e4d93c-cd22-47b4-bfa8-b9a668a88974"
      },
      "execution_count": 70,
      "outputs": [
        {
          "output_type": "stream",
          "name": "stdout",
          "text": [
            "   Unnamed: 0    KodeApt   Wilayah St_Milik  Jum_Kamar\n",
            "0           0      104.0    Bantul        Y        3.0\n",
            "1           1      197.0    Sleman        N        3.0\n",
            "2           2  1000000.0    Sleman        N        3.0\n",
            "3           3      201.0     Yogya        N        1.0\n",
            "4           4      203.0     Yogya        Y        3.0\n",
            "5           5      207.0     Yogya        Y        3.0\n",
            "6           6     9999.0  KL-Progo        Y        2.0\n",
            "7           7      213.0    Bantul        Y        3.0\n",
            "8           8      215.0    Bantul        Y        3.0\n"
          ]
        },
        {
          "output_type": "execute_result",
          "data": {
            "text/plain": [
              "   Unnamed: 0    KodeApt  Wilayah  St_Milik  Jum_Kamar\n",
              "0           0      104.0        0         1        3.0\n",
              "1           1      197.0        2         0        3.0\n",
              "2           2  1000000.0        2         0        3.0\n",
              "3           3      201.0        3         0        1.0\n",
              "4           4      203.0        3         1        3.0\n",
              "5           5      207.0        3         1        3.0\n",
              "6           6     9999.0        1         1        2.0\n",
              "7           7      213.0        0         1        3.0\n",
              "8           8      215.0        0         1        3.0"
            ],
            "text/html": [
              "\n",
              "  <div id=\"df-6fb07999-269b-4ac7-9f35-272a150ee018\">\n",
              "    <div class=\"colab-df-container\">\n",
              "      <div>\n",
              "<style scoped>\n",
              "    .dataframe tbody tr th:only-of-type {\n",
              "        vertical-align: middle;\n",
              "    }\n",
              "\n",
              "    .dataframe tbody tr th {\n",
              "        vertical-align: top;\n",
              "    }\n",
              "\n",
              "    .dataframe thead th {\n",
              "        text-align: right;\n",
              "    }\n",
              "</style>\n",
              "<table border=\"1\" class=\"dataframe\">\n",
              "  <thead>\n",
              "    <tr style=\"text-align: right;\">\n",
              "      <th></th>\n",
              "      <th>Unnamed: 0</th>\n",
              "      <th>KodeApt</th>\n",
              "      <th>Wilayah</th>\n",
              "      <th>St_Milik</th>\n",
              "      <th>Jum_Kamar</th>\n",
              "    </tr>\n",
              "  </thead>\n",
              "  <tbody>\n",
              "    <tr>\n",
              "      <th>0</th>\n",
              "      <td>0</td>\n",
              "      <td>104.0</td>\n",
              "      <td>0</td>\n",
              "      <td>1</td>\n",
              "      <td>3.0</td>\n",
              "    </tr>\n",
              "    <tr>\n",
              "      <th>1</th>\n",
              "      <td>1</td>\n",
              "      <td>197.0</td>\n",
              "      <td>2</td>\n",
              "      <td>0</td>\n",
              "      <td>3.0</td>\n",
              "    </tr>\n",
              "    <tr>\n",
              "      <th>2</th>\n",
              "      <td>2</td>\n",
              "      <td>1000000.0</td>\n",
              "      <td>2</td>\n",
              "      <td>0</td>\n",
              "      <td>3.0</td>\n",
              "    </tr>\n",
              "    <tr>\n",
              "      <th>3</th>\n",
              "      <td>3</td>\n",
              "      <td>201.0</td>\n",
              "      <td>3</td>\n",
              "      <td>0</td>\n",
              "      <td>1.0</td>\n",
              "    </tr>\n",
              "    <tr>\n",
              "      <th>4</th>\n",
              "      <td>4</td>\n",
              "      <td>203.0</td>\n",
              "      <td>3</td>\n",
              "      <td>1</td>\n",
              "      <td>3.0</td>\n",
              "    </tr>\n",
              "    <tr>\n",
              "      <th>5</th>\n",
              "      <td>5</td>\n",
              "      <td>207.0</td>\n",
              "      <td>3</td>\n",
              "      <td>1</td>\n",
              "      <td>3.0</td>\n",
              "    </tr>\n",
              "    <tr>\n",
              "      <th>6</th>\n",
              "      <td>6</td>\n",
              "      <td>9999.0</td>\n",
              "      <td>1</td>\n",
              "      <td>1</td>\n",
              "      <td>2.0</td>\n",
              "    </tr>\n",
              "    <tr>\n",
              "      <th>7</th>\n",
              "      <td>7</td>\n",
              "      <td>213.0</td>\n",
              "      <td>0</td>\n",
              "      <td>1</td>\n",
              "      <td>3.0</td>\n",
              "    </tr>\n",
              "    <tr>\n",
              "      <th>8</th>\n",
              "      <td>8</td>\n",
              "      <td>215.0</td>\n",
              "      <td>0</td>\n",
              "      <td>1</td>\n",
              "      <td>3.0</td>\n",
              "    </tr>\n",
              "  </tbody>\n",
              "</table>\n",
              "</div>\n",
              "      <button class=\"colab-df-convert\" onclick=\"convertToInteractive('df-6fb07999-269b-4ac7-9f35-272a150ee018')\"\n",
              "              title=\"Convert this dataframe to an interactive table.\"\n",
              "              style=\"display:none;\">\n",
              "        \n",
              "  <svg xmlns=\"http://www.w3.org/2000/svg\" height=\"24px\"viewBox=\"0 0 24 24\"\n",
              "       width=\"24px\">\n",
              "    <path d=\"M0 0h24v24H0V0z\" fill=\"none\"/>\n",
              "    <path d=\"M18.56 5.44l.94 2.06.94-2.06 2.06-.94-2.06-.94-.94-2.06-.94 2.06-2.06.94zm-11 1L8.5 8.5l.94-2.06 2.06-.94-2.06-.94L8.5 2.5l-.94 2.06-2.06.94zm10 10l.94 2.06.94-2.06 2.06-.94-2.06-.94-.94-2.06-.94 2.06-2.06.94z\"/><path d=\"M17.41 7.96l-1.37-1.37c-.4-.4-.92-.59-1.43-.59-.52 0-1.04.2-1.43.59L10.3 9.45l-7.72 7.72c-.78.78-.78 2.05 0 2.83L4 21.41c.39.39.9.59 1.41.59.51 0 1.02-.2 1.41-.59l7.78-7.78 2.81-2.81c.8-.78.8-2.07 0-2.86zM5.41 20L4 18.59l7.72-7.72 1.47 1.35L5.41 20z\"/>\n",
              "  </svg>\n",
              "      </button>\n",
              "      \n",
              "  <style>\n",
              "    .colab-df-container {\n",
              "      display:flex;\n",
              "      flex-wrap:wrap;\n",
              "      gap: 12px;\n",
              "    }\n",
              "\n",
              "    .colab-df-convert {\n",
              "      background-color: #E8F0FE;\n",
              "      border: none;\n",
              "      border-radius: 50%;\n",
              "      cursor: pointer;\n",
              "      display: none;\n",
              "      fill: #1967D2;\n",
              "      height: 32px;\n",
              "      padding: 0 0 0 0;\n",
              "      width: 32px;\n",
              "    }\n",
              "\n",
              "    .colab-df-convert:hover {\n",
              "      background-color: #E2EBFA;\n",
              "      box-shadow: 0px 1px 2px rgba(60, 64, 67, 0.3), 0px 1px 3px 1px rgba(60, 64, 67, 0.15);\n",
              "      fill: #174EA6;\n",
              "    }\n",
              "\n",
              "    [theme=dark] .colab-df-convert {\n",
              "      background-color: #3B4455;\n",
              "      fill: #D2E3FC;\n",
              "    }\n",
              "\n",
              "    [theme=dark] .colab-df-convert:hover {\n",
              "      background-color: #434B5C;\n",
              "      box-shadow: 0px 1px 3px 1px rgba(0, 0, 0, 0.15);\n",
              "      filter: drop-shadow(0px 1px 2px rgba(0, 0, 0, 0.3));\n",
              "      fill: #FFFFFF;\n",
              "    }\n",
              "  </style>\n",
              "\n",
              "      <script>\n",
              "        const buttonEl =\n",
              "          document.querySelector('#df-6fb07999-269b-4ac7-9f35-272a150ee018 button.colab-df-convert');\n",
              "        buttonEl.style.display =\n",
              "          google.colab.kernel.accessAllowed ? 'block' : 'none';\n",
              "\n",
              "        async function convertToInteractive(key) {\n",
              "          const element = document.querySelector('#df-6fb07999-269b-4ac7-9f35-272a150ee018');\n",
              "          const dataTable =\n",
              "            await google.colab.kernel.invokeFunction('convertToInteractive',\n",
              "                                                     [key], {});\n",
              "          if (!dataTable) return;\n",
              "\n",
              "          const docLinkHtml = 'Like what you see? Visit the ' +\n",
              "            '<a target=\"_blank\" href=https://colab.research.google.com/notebooks/data_table.ipynb>data table notebook</a>'\n",
              "            + ' to learn more about interactive tables.';\n",
              "          element.innerHTML = '';\n",
              "          dataTable['output_type'] = 'display_data';\n",
              "          await google.colab.output.renderOutput(dataTable, element);\n",
              "          const docLink = document.createElement('div');\n",
              "          docLink.innerHTML = docLinkHtml;\n",
              "          element.appendChild(docLink);\n",
              "        }\n",
              "      </script>\n",
              "    </div>\n",
              "  </div>\n",
              "  "
            ]
          },
          "metadata": {},
          "execution_count": 70
        }
      ]
    },
    {
      "cell_type": "code",
      "source": [
        "df.to_csv(\"/content/drive/MyDrive/apartemen2(numerik).csv\",header=True, index=False)"
      ],
      "metadata": {
        "id": "AMbaXjQfaaZi"
      },
      "execution_count": 71,
      "outputs": []
    }
  ]
}